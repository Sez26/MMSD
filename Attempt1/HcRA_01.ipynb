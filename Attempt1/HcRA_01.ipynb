{
 "cells": [
  {
   "cell_type": "markdown",
   "metadata": {},
   "source": [
    "# Mathematical Modelling for Sustainable Development\n",
    "## Coursework Submission 2025\n",
    "### Serena Farrelly\n",
    "\n",
    "Question 1: Healthcare Resource Allocation Modelling\n",
    "\n",
    "Modelling a queuing system to model arriving patients (walk ins and prearranged appointments) and the allocation of four clinicians. We want to assess the efficiency of the system and identify causes of delays.\n",
    "\n",
    "\n",
    "### Modelling Assumptions\n",
    "\n",
    "- a patient with an appointment arrives every 30 minutes"
   ]
  },
  {
   "cell_type": "code",
   "execution_count": 40,
   "metadata": {},
   "outputs": [],
   "source": [
    "# Python Packages\n",
    "import simpy\n",
    "import numpy as np\n",
    "import matplotlib.pyplot as plt\n",
    "import pandas as pd"
   ]
  },
  {
   "cell_type": "code",
   "execution_count": 41,
   "metadata": {},
   "outputs": [],
   "source": [
    "# Class defintions\n",
    "\n",
    "class HealthService:\n",
    "    def __init__(self, env, num_clinicians):\n",
    "        self.env = env\n",
    "        self.clinicians = simpy.Resource(env, num_clinicians)\n",
    "\n",
    "    def processPatient(self, patient):\n",
    "        yield self.env.timeout()\n",
    "\n",
    "\n",
    "class Patient:\n",
    "    def __init__(self, id, type, entry_time):\n",
    "        self.id = id\n",
    "        self.type = type\n",
    "        self.entry_time = entry_time\n",
    "        self.exit_time = 9999 # arbitrary high number. Gets updated when patient exits\n",
    "    \n",
    "    def __str__(self):\n",
    "        return f\"Patient:{self.id}(Type:{self.type}, Entry Time: {self.entry_time}, Exit Time: {self.entry_time})\"\n",
    "    "
   ]
  },
  {
   "cell_type": "code",
   "execution_count": null,
   "metadata": {},
   "outputs": [],
   "source": [
    "# Simulation Functions\n",
    "\n",
    "def Source_appt():\n",
    "    # regular appointments through out the day\n",
    "    # they arrive every 30 mins\n",
    "    # a pretty hellish schedule lol\n",
    "    return 30\n",
    "\n",
    "\n",
    "def Source_walkin(mu_walkin):\n",
    "    # random walkins\n",
    "    return np.random.exponential(mu_walkin)\n",
    "\n",
    "def Service_time(mu_service):\n",
    "    # how long each appmnt takes\n",
    "    return np.random.exponential(mu_service)\n",
    "\n",
    "# Simulation function for the queuing system\n",
    "def HealthCareService(env, clinicians):\n",
    "    num_patients = 0                                            # Initialise a counter for the patients\n",
    "    next_patient_time = 0                                       # Intialise time variable to be minimised when the next patient time is determined\n",
    "    last_patient_type = 1                                       # patient type: 1 = appointment, 2 = walkin\n",
    "    next_walkin = 0\n",
    "    while True:                                                 # In this case, while the simulation is running\n",
    "        \n",
    "        # Find out which is the next patient: walk in or appointment\n",
    "        if (next_walkin==0 or last_patient_type == 2):\n",
    "            # if this value is 0 (initialise) or the last patient was a walkin\n",
    "            # generate a new talk in time\n",
    "            next_walkin = Source_walkin(mu_walkin)\n",
    "        \n",
    "        # compare which is the next customer: appointment or walkin\n",
    "        if (next_walkin < Source_appt()):\n",
    "            last_patient_type = 2\n",
    "            next_patient_time = next_walkin\n",
    "        else:\n",
    "            last_patient_type = 1\n",
    "            next_patient_time = Source_appt()\n",
    "        \n",
    "        # this is essentially a delay simulation until next customer arrival\n",
    "        yield env.timeout(next_patient_time)\n",
    "        num_patients += 1                                      # Increment the customer number\n",
    "\n",
    "        # When the customer arrives, start a new customer process\n",
    "        env.process(Patient(env, num_patients, clinicians))\n",
    "\n",
    "# Customer process function to simulate each customer's interaction with the server\n",
    "def Patient(env, patient, clinicians):\n",
    "    # Request a server from the pool of available servers\n",
    "    with clinicians.request() as request:\n",
    "        t_arrival = env.now  # Capture the arrival time of the customer\n",
    "\n",
    "        # Track the number of customers currently in the system (both in service and in queue)\n",
    "        in_systems.append((t_arrival, len(clinicians.queue) + len(clinicians.users)))\n",
    "\n",
    "        # Log the customer arrival, including the number of customers \n",
    "        # print(f'{env.now}: customer {customer} arrives.  Current number of people in the system: {len(servers.queue) + len(servers.users)}')       \n",
    "\n",
    "        # Yield until the customer gets service (i.e., waits for a server to be available)\n",
    "        yield request\n",
    "        ##print(f'{env.now}: customer {customer} is being served')\n",
    "\n",
    "        # Generate and wait for the service time (time spent being served)\n",
    "        service_time = Service_time(mu_service)\n",
    "        yield env.timeout(service_time)\n",
    "\n",
    "        # Customer departs after service\n",
    "        t_depart = env.now  # Capture the departure time of the customer\n",
    "\n",
    "        # Track the number of customers in the system after this customer departs\n",
    "        in_systems.append((t_depart, len(clinicians.queue) + len(clinicians.users) - 1))\n",
    "\n",
    "        # Log the customer departure, including the number of customers\n",
    "        #print(f'{env.now}: customer {customer} departs. Current number of people in the system: {len(servers.queue) + len(servers.users) - 1}')\n",
    "\n",
    "        # Record the wait time and service time for the customer\n",
    "        waits.append(t_depart - t_arrival)                      # Calculate the wait time (departure time - arrival time)\n",
    "        service_t.append(service_time)                          # Record the service time\n",
    "        service[patient] = service_time, t_depart - t_arrival   # Store service details for the customer\n",
    "\n",
    "\n"
   ]
  },
  {
   "cell_type": "code",
   "execution_count": 43,
   "metadata": {},
   "outputs": [],
   "source": [
    "# Initialise lists to store results for wait times, service times, and system state\n",
    "waits = [] # List to store wait times \n",
    "service_t = []  # list to store the service times for each customer\n",
    "in_systems = [(0,0)] #list to track number of people at the given time\n",
    "service={}\n",
    "\n",
    "# Parameters \n",
    "mu_walkin = 10                          # mean arrival interspacing for walk in patients (mins)\n",
    "mu_service = 15                         # mean length of clinician appointment (mins)\n",
    "\n",
    "# Simulation duration\n",
    "duration = 1000 #in minutes\n",
    "\n",
    "# Create the simulation environment and server\n",
    "env = simpy.Environment()\n",
    "clinicians = simpy.Resource(env, capacity=4)  # initialise the servers\n",
    "# Start the simulation\n",
    "env.process(HealthCareService(env, clinicians))\n",
    "# Run the simulation for a given time \n",
    "env.run(until=duration)\n"
   ]
  },
  {
   "cell_type": "code",
   "execution_count": 44,
   "metadata": {},
   "outputs": [
    {
     "name": "stdout",
     "output_type": "stream",
     "text": [
      "average customer service time: 16.14\n",
      " average customer wait time: 460.31\n",
      " average number of customers in the system: 2358.41\n"
     ]
    }
   ],
   "source": [
    "average_service_time = np.mean(service_t)  # Calculate the average customer service time\n",
    "print(f'average customer service time: {average_service_time:.2f}')\n",
    "\n",
    "W = np.mean(waits) # Calculate the average wait time across all customers\n",
    "print(f' average customer wait time: {W:.2f}')\n",
    "\n",
    "# Loop through the records of system states (time and queue length)\n",
    "auc, last_t, last_l = 0, 0, 0\n",
    "for t, l in in_systems:\n",
    "    auc += (t-last_t)*last_l\n",
    "    last_t, last_l = t, l\n",
    "L=auc/last_t # Calculate the average number of customers in the system \n",
    "print(f' average number of customers in the system: {L:.2f}')"
   ]
  },
  {
   "cell_type": "code",
   "execution_count": 45,
   "metadata": {},
   "outputs": [
    {
     "data": {
      "image/png": "[encoded data removed]",
      "text/plain": [
       "<Figure size 640x480 with 1 Axes>"
      ]
     },
     "metadata": {},
     "output_type": "display_data"
    }
   ],
   "source": [
    "plt.step(*zip(*in_systems[:]), where='post')  # Plot the times of events (arrivals and departures) vs the number of customers at those times. \n",
    "plt.title(\"M/M/1 Queue\")                        # Set the title of the plot\n",
    "plt.xlabel(\"Time\")                              # Label the x-axis as 'Time'\n",
    "plt.ylabel(\"Number Customers in System\")        # Label the y-axis as 'Number of Customers in System'\n",
    "plt.show()                                      # Display the plot"
   ]
  }
 ],
 "metadata": {
  "kernelspec": {
   "display_name": "Python 3.10 (uni24_MMSD)",
   "language": "python",
   "name": "uni24_mmsd"
  },
  "language_info": {
   "codemirror_mode": {
    "name": "ipython",
    "version": 3
   },
   "file_extension": ".py",
   "mimetype": "text/x-python",
   "name": "python",
   "nbconvert_exporter": "python",
   "pygments_lexer": "ipython3",
   "version": "3.10.16"
  }
 },
 "nbformat": 4,
 "nbformat_minor": 2
}
