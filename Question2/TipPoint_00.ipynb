{
 "cells": [
  {
   "cell_type": "markdown",
   "metadata": {},
   "source": [
    "# Mathematical Modelling for Sustainable Development\n",
    "## Coursework Submission 2025\n",
    "### Serena Farrelly\n",
    "\n",
    "Question 2: Tipping points and the Greenland ice sheet\n",
    "\n",
    "Modelling the interplay between global temperatures and albedo affect to predict the melting of the greenland icesheet.\n",
    "\n",
    "\n",
    "### Modelling Assumptions\n",
    "\n",
    "- parabolic ice sheet cross section"
   ]
  },
  {
   "cell_type": "code",
   "execution_count": 5,
   "metadata": {},
   "outputs": [],
   "source": [
    "import numpy as np\n",
    "import matplotlib.pyplot as plt\n",
    "from scipy.integrate import solve_ivp"
   ]
  },
  {
   "cell_type": "code",
   "execution_count": null,
   "metadata": {},
   "outputs": [],
   "source": [
    "# lets get some shit down\n",
    "\n",
    "h = 3000        # height of ice sheeet (m)\n",
    "P = 1           # precipitation rate (m/yr)\n",
    "r = 1           # rate of melting (m/yr)\n",
    "T_0 = 270       # pre-industrial surface temp (K)\n",
    "d_T = 0         # change in temperature from global warming (function of t)\n",
    "h_f = 0         # characteristic length, altitude above whcih the ice won't melt\n",
    "F = 1           # rate of flow of ice sheet into the sea\n",
    "\n",
    "\n",
    "\n",
    "# rate of change of height of ice sheet\n",
    "def f(h, P, r, T_0, d_T, h_f, F):\n",
    "    dh_dt = P - (r*(T_0+d_T))/(h+h_f)-(F*h)\n",
    "    if h <= 0 and dh_dt < 0:\n",
    "        dh_dt = 0\n",
    "    return dh_dt\n"
   ]
  },
  {
   "cell_type": "code",
   "execution_count": null,
   "metadata": {},
   "outputs": [],
   "source": [
    "# lets define how surface temperature changes over time\n"
   ]
  },
  {
   "cell_type": "code",
   "execution_count": null,
   "metadata": {},
   "outputs": [],
   "source": [
    "ax = plt.figure().add_subplot(111)\n",
    "\n",
    "d_T = np.linspace(-1.5, 1.5, 100)\n",
    "ax.plot(d_T, f(h, P, r, T_0, d_T, h_f, F))\n",
    "\n",
    "ax.set_xlabel(r'$x$')\n",
    "ax.set_ylabel(r'$f(x, \\lambda)$', rotation=0)\n",
    "ax.hlines(0, -1.5, 1.5, linestyles='dashed')\n",
    "ax.grid()\n",
    "\n",
    "plt.show()"
   ]
  }
 ],
 "metadata": {
  "kernelspec": {
   "display_name": "uni24_MMSD",
   "language": "python",
   "name": "python3"
  },
  "language_info": {
   "codemirror_mode": {
    "name": "ipython",
    "version": 3
   },
   "file_extension": ".py",
   "mimetype": "text/x-python",
   "name": "python",
   "nbconvert_exporter": "python",
   "pygments_lexer": "ipython3",
   "version": "3.10.16"
  }
 },
 "nbformat": 4,
 "nbformat_minor": 2
}
