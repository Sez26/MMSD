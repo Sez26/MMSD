{
 "cells": [
  {
   "cell_type": "markdown",
   "metadata": {},
   "source": [
    "# Mathematical Modelling for Sustainable Development\n",
    "## Coursework Submission 2025\n",
    "### Serena Farrelly\n",
    "\n",
    "Question 2: Tipping points and the Greenland ice sheet\n",
    "\n",
    "Modelling the interplay between global temperatures and albedo affect to predict the melting of the greenland icesheet.\n",
    "\n",
    "\n",
    "### Modelling Assumptions\n",
    "\n",
    "- parabolic ice sheet cross section"
   ]
  },
  {
   "cell_type": "code",
   "execution_count": 2,
   "metadata": {},
   "outputs": [],
   "source": [
    "import numpy as np\n",
    "import matplotlib.pyplot as plt\n",
    "from scipy.integrate import solve_ivp\n",
    "import sympy as sym"
   ]
  },
  {
   "cell_type": "code",
   "execution_count": 63,
   "metadata": {},
   "outputs": [
    {
     "name": "stdout",
     "output_type": "stream",
     "text": [
      "Solver succeeded!\n",
      "Solution shape: (5, 1000)\n"
     ]
    },
    {
     "data": {
      "image/png": "[encoded data removed]",
      "text/plain": [
       "<Figure size 640x480 with 1 Axes>"
      ]
     },
     "metadata": {},
     "output_type": "display_data"
    }
   ],
   "source": [
    "def GrIS_melt(t, state_var, params):\n",
    "    # Extract state variables\n",
    "    betastar, alpha, T, h, SLR = state_var\n",
    "\n",
    "    # Adjust time reference\n",
    "    t_adj = t - params[\"start_year\"]\n",
    "\n",
    "    # Define betastar ODE\n",
    "    dbetastar = params[\"G\"] * (\n",
    "        params[\"kappa\"] * (params[\"gamma\"] * t_adj + params[\"E_0\"])\n",
    "        - (1 / params[\"t_CO2\"]) * ((betastar / params[\"G\"]) - params[\"rho_0\"])\n",
    "    )\n",
    "\n",
    "    # Define alpha ODE\n",
    "    # dalpha = (0.9 * (h / params[\"h_0\"])**2)\n",
    "    dalpha = ((2* params[\"alpha_rate\"]* h / params[\"h_0\"]**2) * \n",
    "              (params[\"P\"] - (params[\"r\"] * (params[\"T_0\"] + T)) / (h + params[\"h_f\"]) - params[\"F\"] * h)\n",
    "    )\n",
    "\n",
    "    # Define temperature ODE\n",
    "    # dT = (1 / params[\"C\"]) * (\n",
    "    #     (1 - alpha) * params[\"Q\"]\n",
    "    #     - (1 - (params[\"beta\"] + betastar)) * params[\"sigma\"] * np.pow(T,4)\n",
    "    # )\n",
    "    T_safe = np.clip(T, 1e-3, None)  # Prevent T from going negative\n",
    "    # dT = (1 / params[\"C\"]) * ((1 - alpha) * params[\"Q\"] - (1 - (params[\"beta\"] + betastar)) * params[\"sigma\"] * T_safe**4)\n",
    "    dT = (1 / params[\"C\"]) * ((1 - alpha) * params[\"Q\"] - np.clip((1 - (params[\"beta\"] + betastar)), 0.1, 1) * params[\"sigma\"] * T_safe**4)\n",
    "\n",
    "\n",
    "    # Define height ODE\n",
    "    # dh = params[\"P\"] - ((params[\"r\"] * (params[\"T_0\"] + T)) / (h + params[\"h_f\"])) - params[\"F\"] * h\n",
    "    # dh = params[\"P\"] - (params[\"r\"] * (T)) / (h + params[\"h_f\"]) - params[\"F\"] * h\n",
    "    h_safe = np.clip(h, 500, None)  # Ensure h doesn't go too low\n",
    "    dh = params[\"P\"] - ((params[\"r\"] * (params[\"T_0\"] + T)) / (h_safe + params[\"h_f\"])) - params[\"F\"] * h_safe\n",
    "\n",
    "\n",
    "    # Define SLR ODE (Fix: Prevent division by zero)\n",
    "    h_safe = max(h, 1e-10)\n",
    "    dSLR = (params[\"V_GrIS\"] - (h_safe / params[\"h_0\"])**3 * params[\"V_GrIS\"]) / params[\"SA_o\"]\n",
    "\n",
    "    # print\n",
    "    # print(f\"T: {T}, betastar: {betastar}, alpha: {alpha}, dh: {dh}, dT: {dT}\")\n",
    "\n",
    "\n",
    "    return [dbetastar, dalpha, dT, dh, dSLR]\n",
    "\n",
    "# Define initial conditions\n",
    "state_var_0 = [0, 0.4, 254, 3000, 0]\n",
    "\n",
    "# Define model parameters\n",
    "params = {\n",
    "    \"G\": 4e-6, # 3.12169312e-05,\n",
    "    \"kappa\": 1e-7,\n",
    "    \"gamma\": 1e-1,\n",
    "    \"start_year\": 1950,\n",
    "    \"E_0\": 5.2e9,\n",
    "    \"t_CO2\": 100,\n",
    "    \"rho_0\": 315,\n",
    "    \"alpha_rate\": 0.3,\n",
    "    \"h_0\": 3000,\n",
    "    \"C\": 5,\n",
    "    \"Q\": 340,\n",
    "    \"beta\": 0.4,\n",
    "    \"sigma\": 5.67e-8,\n",
    "    \"P\": 4,\n",
    "    \"r\": 37,\n",
    "    \"T_0\": 254,\n",
    "    \"h_f\": 2000,\n",
    "    \"F\": 1e-5,\n",
    "    \"V_GrIS\": 1.13144459419036e15,\n",
    "    \"SA_o\": 3.618e14,\n",
    "}\n",
    "\n",
    "# Solve the system\n",
    "t_span = (1950, 2100)  # Time range\n",
    "t_eval = np.linspace(1950, 2100, 1000)\n",
    "\n",
    "# Run the solver\n",
    "# sol = solve_ivp(GrIS_melt, t_span, state_var_0, args=(params,), method=\"RK45\", t_eval=t_eval)\n",
    "sol = solve_ivp(GrIS_melt, t_span, state_var_0, args=(params,), method=\"RK45\", t_eval=t_eval, max_step=0.5)\n",
    "\n",
    "\n",
    "# Check if solver was successful\n",
    "if not sol.success:\n",
    "    print(\"Solver did not converge. Check for numerical issues.\")\n",
    "    print(f\"Message: {sol.message}\")\n",
    "else:\n",
    "    print(\"Solver succeeded!\")\n",
    "\n",
    "# Check the shape of the solution\n",
    "print(f\"Solution shape: {sol.y.shape}\")\n",
    "\n",
    "# Plot the results\n",
    "plt.plot(sol.t, sol.y[0], label=\"betastar\")\n",
    "plt.plot(sol.t, sol.y[1], label=\"alpha\")\n",
    "plt.plot(sol.t, sol.y[2], label=\"T\")\n",
    "plt.plot(sol.t, sol.y[3], label=\"h\")\n",
    "plt.plot(sol.t, sol.y[4], label=\"SLR\")\n",
    "plt.legend()\n",
    "plt.xlabel(\"Time\")\n",
    "plt.ylabel(\"State Variables\")\n",
    "plt.show()\n"
   ]
  }
 ],
 "metadata": {
  "kernelspec": {
   "display_name": "uni24_MMSD",
   "language": "python",
   "name": "python3"
  },
  "language_info": {
   "codemirror_mode": {
    "name": "ipython",
    "version": 3
   },
   "file_extension": ".py",
   "mimetype": "text/x-python",
   "name": "python",
   "nbconvert_exporter": "python",
   "pygments_lexer": "ipython3",
   "version": "3.10.16"
  }
 },
 "nbformat": 4,
 "nbformat_minor": 2
}
