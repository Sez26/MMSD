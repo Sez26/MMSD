{
 "cells": [
  {
   "cell_type": "markdown",
   "metadata": {},
   "source": [
    "# Mathematical Modelling for Sustainable Development\n",
    "## Coursework Submission 2025\n",
    "### Serena Farrelly\n",
    "\n",
    "Question 1: Healthcare Resource Allocation Modelling\n",
    "\n",
    "Modelling a queuing system to model arriving patients (walk ins and prearranged appointments) and the allocation of four clinicians. We want to assess the efficiency of the system and identify causes of delays."
   ]
  },
  {
   "cell_type": "code",
   "execution_count": 7,
   "metadata": {},
   "outputs": [],
   "source": [
    "class Clincian:\n",
    "    def __init__(self, id, service_time):\n",
    "        self.id = id\n",
    "        self.available = True\n",
    "        self.service_time = service_time\n",
    "        self.patient_tally = 0 # this counts how many the clinician has seen\n",
    "\n",
    "    def __str__(self):\n",
    "        return f\"Patient:{self.id}(Availability Status:{self.available}, Service Time: {self.service_time}, Patient Tally: {self.patient_tally})\""
   ]
  },
  {
   "cell_type": "code",
   "execution_count": 8,
   "metadata": {},
   "outputs": [],
   "source": [
    "# ok lets generate some patients\n",
    "\n",
    "# appointment patients\n",
    "appointment_times = np.arange(9,17,0.5) # every half hour 9-5! (HELLISH SCHEDULE)\n",
    "\n",
    "# generate appointment patients"
   ]
  }
 ],
 "metadata": {
  "kernelspec": {
   "display_name": "Python 3.10 (uni24_MMSD)",
   "language": "python",
   "name": "uni24_mmsd"
  },
  "language_info": {
   "codemirror_mode": {
    "name": "ipython",
    "version": 3
   },
   "file_extension": ".py",
   "mimetype": "text/x-python",
   "name": "python",
   "nbconvert_exporter": "python",
   "pygments_lexer": "ipython3",
   "version": "3.13.1"
  }
 },
 "nbformat": 4,
 "nbformat_minor": 2
}
