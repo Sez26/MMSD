{
 "cells": [
  {
   "cell_type": "markdown",
   "metadata": {},
   "source": [
    "# Mathematical Modelling for Sustainable Development\n",
    "## Coursework Submission 2025\n",
    "### Serena Farrelly\n",
    "\n",
    "Question 1: Healthcare Resource Allocation Modelling\n",
    "\n",
    "Modelling a queuing system to model arriving patients (walk ins and prearranged appointments) and the allocation of four clinicians. We want to assess the efficiency of the system and identify causes of delays.\n",
    "\n",
    "\n",
    "### Modelling Assumptions\n",
    "\n",
    "- a patient with an appointment arrives every 30 minutes"
   ]
  },
  {
   "cell_type": "code",
   "execution_count": 47,
   "metadata": {},
   "outputs": [],
   "source": [
    "# Python Packages\n",
    "import simpy\n",
    "import numpy as np\n",
    "import matplotlib.pyplot as plt\n",
    "import pandas as pd"
   ]
  },
  {
   "cell_type": "code",
   "execution_count": 48,
   "metadata": {},
   "outputs": [],
   "source": [
    "# Class defintions\n",
    "class HealthCareService_c:\n",
    "    def __init__(self, env, num_clinicians):\n",
    "        self.env = env\n",
    "        self.clinicians = simpy.Resource(env, num_clinicians)\n",
    "        self.patients_list = [] # empty list to be filled with Patient_c class objects\n",
    "        self.num_patients = 0 # initialised as 0\n",
    "        self.num_in_sys = [(0,0)]\n",
    "    \n",
    "    def define_param(self, mu_walkin, mu_service, duration):\n",
    "        self.mu_walkin = mu_walkin #  mean walkin rate (mins)\n",
    "        self.mu_service = mu_service # mean service rate (mins)\n",
    "        self.duration = duration # simulation duration (mins)\n",
    "\n",
    "\n",
    "class Patient_c:\n",
    "    def __init__(self, id, type, entry_time):\n",
    "        self.id = id\n",
    "        self.type = type\n",
    "        self.entry_time = entry_time\n",
    "        self.wait_time = 0\n",
    "        self.service_time = 0\n",
    "        self.exit_time = 9999 # arbitrary high number. Gets updated when patient exits\n",
    "    \n",
    "    def __str__(self):\n",
    "        return f\"Patient:{self.id}(Type:{self.type}, Entry Time: {self.entry_time}, Exit Time: {self.entry_time})\"\n",
    "    "
   ]
  },
  {
   "cell_type": "code",
   "execution_count": 49,
   "metadata": {},
   "outputs": [],
   "source": [
    "# Simulation Functions\n",
    "\n",
    "def Source_appt():\n",
    "    # regular appointments through out the day\n",
    "    # they arrive every 30 mins\n",
    "    # a pretty hellish schedule lol\n",
    "    return 30\n",
    "\n",
    "\n",
    "def Source_walkin(mu_walkin):\n",
    "    # random walkins\n",
    "    return np.random.exponential(mu_walkin)\n",
    "\n",
    "def Service_time(mu_service):\n",
    "    # how long each appmnt takes\n",
    "    return np.random.exponential(mu_service)\n",
    "\n",
    "# Simulation function for the queuing system\n",
    "def HealthCareService(env, HCS_obj):\n",
    "    next_patient_time = 0                                       # Intialise time variable to be minimised when the next patient time is determined\n",
    "    last_patient_type = 1                                       # patient type: 1 = appointment, 2 = walkin\n",
    "    next_walkin = 0\n",
    "    while True:                                                 # In this case, while the simulation is running\n",
    "        \n",
    "        # Find out which is the next patient: walk in or appointment\n",
    "        if (next_walkin==0 or last_patient_type == 2):\n",
    "            # if this value is 0 (initialise) or the last patient was a walkin\n",
    "            # generate a new talk in time\n",
    "            next_walkin = Source_walkin(HCS_obj.mu_walkin)\n",
    "        \n",
    "        # compare which is the next customer: appointment or walkin\n",
    "        if (next_walkin < Source_appt()):\n",
    "            last_patient_type = 2\n",
    "            next_patient_time = next_walkin\n",
    "        else:\n",
    "            last_patient_type = 1\n",
    "            next_patient_time = Source_appt()\n",
    "        \n",
    "        # creating a object in the Patient_c class and appending to patient list\n",
    "        HCS_obj.num_patients += 1\n",
    "        Patient_i = Patient_c(HCS_obj.num_patients,last_patient_type,0)\n",
    "        \n",
    "        # this is essentially a delay simulation until next customer arrival\n",
    "        yield env.timeout(next_patient_time)\n",
    "\n",
    "        # When the customer arrives, start a new customer process\n",
    "        env.process(Patient(env, HCS_obj, Patient_i))\n",
    "\n",
    "        # append serviced patient to patient list (all info stored within)\n",
    "        HCS_obj.patients_list.insert(-1,Patient_i)\n",
    "\n",
    "# Customer process function to simulate each customer's interaction with the server\n",
    "def Patient(env, HCS_obj, patient_obj):\n",
    "    # Request a server from the pool of available servers\n",
    "    with HCS_obj.clinicians.request() as request:\n",
    "        # t_arrival = env.now  # Capture the arrival time of the customer\n",
    "        patient_obj.entry_time = env.now\n",
    "\n",
    "        # Track the number of customers currently in the system (both in service and in queue)\n",
    "        HCS_obj.num_in_sys.append((patient_obj.entry_time, len(HCS_obj.clinicians.queue) + len(HCS_obj.clinicians.users)))\n",
    "        # Log the customer arrival, including the number of customers \n",
    "        # print(f'{env.now}: customer {customer} arrives.  Current number of people in the system: {len(servers.queue) + len(servers.users)}')       \n",
    "\n",
    "        # Yield until the customer gets service (i.e., waits for a server to be available)\n",
    "        yield request\n",
    "        ##print(f'{env.now}: customer {customer} is being served')\n",
    "\n",
    "        # Generate and wait for the service time (time spent being served)\n",
    "        patient_obj.service_time = Service_time(HCS_obj.mu_service)\n",
    "        yield env.timeout(patient_obj.service_time)\n",
    "\n",
    "        # Customer departs after service\n",
    "        patient_obj.exit_time = env.now  # Capture the departure time of the customer\n",
    "\n",
    "        # Track the number of customers in the system after this customer departs\n",
    "        HCS_obj.num_in_sys.append((patient_obj.exit_time, len(HCS_obj.clinicians.queue) + len(HCS_obj.clinicians.users)))\n",
    "\n",
    "        # Log the customer departure, including the number of customers\n",
    "        #print(f'{env.now}: customer {customer} departs. Current number of people in the system: {len(servers.queue) + len(servers.users) - 1}')\n",
    "\n",
    "        # Record the wait time and service time for the customer\n",
    "        patient_obj.wait_time = patient_obj.exit_time - patient_obj.service_time - patient_obj.entry_time\n",
    "\n",
    "\n"
   ]
  },
  {
   "cell_type": "code",
   "execution_count": 54,
   "metadata": {},
   "outputs": [],
   "source": [
    "# Create the simulation environment and server\n",
    "env = simpy.Environment()\n",
    "# clinicians = simpy.Resource(env, capacity=4)  # initialise the servers\n",
    "\n",
    "# Create HealthCareService_c class object\n",
    "HealthCareSim = HealthCareService_c(env,4)\n",
    "\n",
    "# Initialise model parameters\n",
    "HealthCareSim.define_param(mu_walkin=5, mu_service=20,duration=1000)\n",
    "\n",
    "# Start the simulation\n",
    "env.process(HealthCareService(env, HealthCareSim))\n",
    "# Run the simulation for a given time \n",
    "env.run(until=HealthCareSim.duration)\n"
   ]
  },
  {
   "cell_type": "code",
   "execution_count": 51,
   "metadata": {},
   "outputs": [],
   "source": [
    "# extract wait times and service times\n",
    "patient_waits = [patient.wait_time for patient in HealthCareSim.patients_list]\n",
    "patient_service = [patient.service_time for patient in HealthCareSim.patients_list]"
   ]
  },
  {
   "cell_type": "code",
   "execution_count": 52,
   "metadata": {},
   "outputs": [
    {
     "name": "stdout",
     "output_type": "stream",
     "text": [
      "average customer service time: 22.76\n",
      " average customer wait time: 0.51\n",
      " average number of customers in the system: 1.49\n"
     ]
    }
   ],
   "source": [
    "average_service_time = np.mean(patient_service)  # Calculate the average customer service time\n",
    "print(f'average customer service time: {average_service_time:.2f}')\n",
    "\n",
    "W = np.mean(patient_waits) # Calculate the average wait time across all customers\n",
    "print(f' average customer wait time: {W:.2f}')\n",
    "\n",
    "# Loop through the records of system states (time and queue length)\n",
    "auc, last_t, last_l = 0, 0, 0\n",
    "for t, l in HealthCareSim.num_in_sys:\n",
    "    auc += (t-last_t)*last_l\n",
    "    last_t, last_l = t, l\n",
    "L=auc/last_t # Calculate the average number of customers in the system \n",
    "print(f' average number of customers in the system: {L:.2f}')"
   ]
  },
  {
   "cell_type": "code",
   "execution_count": null,
   "metadata": {},
   "outputs": [
    {
     "data": {
      "image/png": "[encoded data removed]",
      "text/plain": [
       "<Figure size 640x480 with 1 Axes>"
      ]
     },
     "metadata": {},
     "output_type": "display_data"
    }
   ],
   "source": [
    "# plt.step(*zip(*HealthCareSim.num_in_sys[:]), where='post')  # Plot the times of events (arrivals and departures) vs the number of customers at those times. \n",
    "# # plt.title(\"M/M/1 Queue\")                        # Set the title of the plot\n",
    "# plt.xlabel(\"Time (minutes)\")                              # Label the x-axis as 'Time'\n",
    "# plt.ylabel(\"Number Patients in Clinic\")        # Label the y-axis as 'Number of Customers in System'\n",
    "# plt.show()                                      # Display the plot"
   ]
  }
 ],
 "metadata": {
  "kernelspec": {
   "display_name": "Python 3.10 (uni24_MMSD)",
   "language": "python",
   "name": "uni24_mmsd"
  },
  "language_info": {
   "codemirror_mode": {
    "name": "ipython",
    "version": 3
   },
   "file_extension": ".py",
   "mimetype": "text/x-python",
   "name": "python",
   "nbconvert_exporter": "python",
   "pygments_lexer": "ipython3",
   "version": "3.13.1"
  }
 },
 "nbformat": 4,
 "nbformat_minor": 2
}
